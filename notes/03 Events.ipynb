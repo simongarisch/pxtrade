{
 "cells": [
  {
   "cell_type": "markdown",
   "metadata": {},
   "source": [
    "## Events\n",
    "### Inherit from AbstractEvent"
   ]
  },
  {
   "cell_type": "code",
   "execution_count": 1,
   "metadata": {},
   "outputs": [],
   "source": [
    "import os\n",
    "\n",
    "os.chdir(\"..\")"
   ]
  },
  {
   "cell_type": "code",
   "execution_count": 2,
   "metadata": {},
   "outputs": [],
   "source": [
    "from pxtrade.events import (\n",
    "    AbstractEvent,\n",
    "    AssetPriceEvent,\n",
    "    FxRateEvent,\n",
    "    IndicatorEvent,\n",
    "    TradeEvent,\n",
    ")\n"
   ]
  },
  {
   "cell_type": "markdown",
   "metadata": {},
   "source": [
    "All events in pxtrade inherit from AbstractEvent."
   ]
  },
  {
   "cell_type": "code",
   "execution_count": 3,
   "metadata": {},
   "outputs": [
    {
     "name": "stdout",
     "output_type": "stream",
     "text": [
      "True\n",
      "True\n",
      "True\n",
      "True\n"
     ]
    }
   ],
   "source": [
    "for event_class in [AssetPriceEvent, FxRateEvent, IndicatorEvent, TradeEvent]:\n",
    "    print(issubclass(event_class, AbstractEvent))\n"
   ]
  },
  {
   "cell_type": "markdown",
   "metadata": {},
   "source": [
    "### Can only be processed once\n",
    "All events have a datetime and a processed (boolean) attribute. If an event is processed more than once it suggests something has gone wrong in our logic. Using an asset price event as an example."
   ]
  },
  {
   "cell_type": "code",
   "execution_count": 4,
   "metadata": {},
   "outputs": [],
   "source": [
    "from pxtrade.assets import reset, Stock"
   ]
  },
  {
   "cell_type": "code",
   "execution_count": 5,
   "metadata": {},
   "outputs": [
    {
     "name": "stdout",
     "output_type": "stream",
     "text": [
      "Stock('ZZB AU', 2.5, currency_code='AUD')\n"
     ]
    }
   ],
   "source": [
    "reset()\n",
    "stock = Stock(\"ZZB AU\", 2.50, currency_code=\"AUD\")\n",
    "print(stock)"
   ]
  },
  {
   "cell_type": "code",
   "execution_count": 6,
   "metadata": {},
   "outputs": [
    {
     "name": "stdout",
     "output_type": "stream",
     "text": [
      "AssetPriceEvent(Stock('ZZB AU'), 2020-10-31 12:30:00, 2.6)\n"
     ]
    }
   ],
   "source": [
    "from datetime import datetime\n",
    "\n",
    "dt = datetime(2020, 10, 31, 12, 30)\n",
    "event = AssetPriceEvent(stock, dt, 2.60)\n",
    "print(event)"
   ]
  },
  {
   "cell_type": "markdown",
   "metadata": {},
   "source": [
    "So our stock, 'ZZB AU', currently has a price of AUD 2.50. There is an unprocessed asset price event on 31 Oct 2020 where the price moves to 2.60."
   ]
  },
  {
   "cell_type": "code",
   "execution_count": 7,
   "metadata": {},
   "outputs": [
    {
     "data": {
      "text/plain": [
       "2.5"
      ]
     },
     "execution_count": 7,
     "metadata": {},
     "output_type": "execute_result"
    }
   ],
   "source": [
    "stock.price"
   ]
  },
  {
   "cell_type": "code",
   "execution_count": 8,
   "metadata": {},
   "outputs": [
    {
     "data": {
      "text/plain": [
       "(datetime.datetime(2020, 10, 31, 12, 30), False)"
      ]
     },
     "execution_count": 8,
     "metadata": {},
     "output_type": "execute_result"
    }
   ],
   "source": [
    "event.datetime, event.processed"
   ]
  },
  {
   "cell_type": "markdown",
   "metadata": {},
   "source": [
    "Once the event is processed the asset price moves and the event's processed attribute changes to True."
   ]
  },
  {
   "cell_type": "code",
   "execution_count": 9,
   "metadata": {},
   "outputs": [],
   "source": [
    "event.process()"
   ]
  },
  {
   "cell_type": "code",
   "execution_count": 10,
   "metadata": {},
   "outputs": [
    {
     "name": "stdout",
     "output_type": "stream",
     "text": [
      "Stock('ZZB AU', 2.6, currency_code='AUD')\n"
     ]
    }
   ],
   "source": [
    "print(stock)"
   ]
  },
  {
   "cell_type": "code",
   "execution_count": 11,
   "metadata": {},
   "outputs": [
    {
     "data": {
      "text/plain": [
       "True"
      ]
     },
     "execution_count": 11,
     "metadata": {},
     "output_type": "execute_result"
    }
   ],
   "source": [
    "event.processed"
   ]
  },
  {
   "cell_type": "markdown",
   "metadata": {},
   "source": [
    "This event cannot be processed more than once."
   ]
  },
  {
   "cell_type": "code",
   "execution_count": 12,
   "metadata": {},
   "outputs": [
    {
     "name": "stdout",
     "output_type": "stream",
     "text": [
      "Event has already been processed.\n"
     ]
    }
   ],
   "source": [
    "try:\n",
    "    event.process()\n",
    "except Exception as e:\n",
    "    print(e)"
   ]
  },
  {
   "cell_type": "markdown",
   "metadata": {},
   "source": [
    "### Event Examples"
   ]
  },
  {
   "cell_type": "code",
   "execution_count": 13,
   "metadata": {},
   "outputs": [],
   "source": [
    "from datetime import datetime\n",
    "from pxtrade import Trade\n",
    "from pxtrade.assets import reset, Cash, Stock, FxRate, Portfolio\n",
    "\n",
    "reset()\n",
    "aud = Cash(\"AUD\")\n",
    "usd = Cash(\"USD\")\n",
    "audusd = FxRate(\"AUDUSD\", 0.65)\n",
    "stock = Stock(\"ZZB\", 2.50)\n",
    "portfolio = Portfolio(\"USD\")\n",
    "dt = datetime(2020, 10, 31)"
   ]
  },
  {
   "cell_type": "code",
   "execution_count": 14,
   "metadata": {},
   "outputs": [
    {
     "name": "stdout",
     "output_type": "stream",
     "text": [
      "AssetPriceEvent(Stock('ZZB'), 2020-10-31 00:00:00, 2.55)\n"
     ]
    }
   ],
   "source": [
    "asset_event = AssetPriceEvent(stock, dt, 2.55)\n",
    "print(asset_event)"
   ]
  },
  {
   "cell_type": "code",
   "execution_count": 15,
   "metadata": {},
   "outputs": [
    {
     "name": "stdout",
     "output_type": "stream",
     "text": [
      "FxRateEvent('AUDUSD', 2020-10-31 00:00:00, 0.75)\n"
     ]
    }
   ],
   "source": [
    "fx_event = FxRateEvent(audusd, dt, 0.75)\n",
    "print(fx_event)"
   ]
  },
  {
   "cell_type": "code",
   "execution_count": 16,
   "metadata": {},
   "outputs": [
    {
     "name": "stdout",
     "output_type": "stream",
     "text": [
      "IndicatorEvent('VIX', 2020-10-31 00:00:00, 25)\n"
     ]
    }
   ],
   "source": [
    "indicator_event = IndicatorEvent(\"VIX\", dt, 25)\n",
    "print(indicator_event)"
   ]
  },
  {
   "cell_type": "code",
   "execution_count": 17,
   "metadata": {},
   "outputs": [
    {
     "name": "stdout",
     "output_type": "stream",
     "text": [
      "TradeEvent(2020-10-31 00:00:00, Trade(Portfolio('USD'), 'ZZB', 100))\n"
     ]
    }
   ],
   "source": [
    "trade = Trade(portfolio, stock, 100)\n",
    "trade_event = TradeEvent(dt, trade)\n",
    "print(trade_event)"
   ]
  },
  {
   "cell_type": "markdown",
   "metadata": {},
   "source": [
    "And if we process these events."
   ]
  },
  {
   "cell_type": "code",
   "execution_count": 18,
   "metadata": {},
   "outputs": [
    {
     "name": "stdout",
     "output_type": "stream",
     "text": [
      "Stock before:  Stock('ZZB', 2.5, currency_code='USD')\n",
      "Stock after:  Stock('ZZB', 2.55, currency_code='USD')\n"
     ]
    }
   ],
   "source": [
    "print(\"Stock before: \", stock)\n",
    "asset_event.process()\n",
    "print(\"Stock after: \", stock)"
   ]
  },
  {
   "cell_type": "code",
   "execution_count": 19,
   "metadata": {},
   "outputs": [
    {
     "name": "stdout",
     "output_type": "stream",
     "text": [
      "AUDUSD before:  0.65\n",
      "AUDUSD after:  0.75\n"
     ]
    }
   ],
   "source": [
    "print(\"AUDUSD before: \", audusd.rate)\n",
    "fx_event.process()\n",
    "print(\"AUDUSD after: \", audusd.rate)"
   ]
  },
  {
   "cell_type": "markdown",
   "metadata": {},
   "source": [
    "Indicators are associated with some backtest, so we'll cover their processing later."
   ]
  },
  {
   "cell_type": "code",
   "execution_count": 20,
   "metadata": {},
   "outputs": [
    {
     "name": "stdout",
     "output_type": "stream",
     "text": [
      "Portfolio before:  Portfolio('USD')\n",
      "**********\n",
      "Portfolio after:  Portfolio('USD'):\n",
      "Stock('ZZB', 2.55, currency_code='USD'): 100\n",
      "Cash('USD', 1.0, currency_code='USD'): -255\n"
     ]
    }
   ],
   "source": [
    "print(\"Portfolio before: \", portfolio)\n",
    "trade_event.process()\n",
    "print(\"*\" * 10)\n",
    "print(\"Portfolio after: \", portfolio)"
   ]
  },
  {
   "cell_type": "markdown",
   "metadata": {},
   "source": [
    "### Event Queues\n",
    "For a given backtest we are likely to be queueing multiple events of different types. These events are queued in time priority with the oldest events being processed first."
   ]
  },
  {
   "cell_type": "code",
   "execution_count": 21,
   "metadata": {},
   "outputs": [
    {
     "name": "stdout",
     "output_type": "stream",
     "text": [
      "AssetPriceEvent(Stock('ZZZ'), 2020-09-01 00:00:00, 2.55)\n",
      "AssetPriceEvent(Stock('ZZZ'), 2020-09-02 00:00:00, 2.6)\n",
      "AssetPriceEvent(Stock('ZZZ'), 2020-09-03 00:00:00, 2.65)\n"
     ]
    }
   ],
   "source": [
    "from pxtrade import EventsQueue\n",
    "\n",
    "reset()\n",
    "queue = EventsQueue()\n",
    "stock = Stock(\"ZZZ\")\n",
    "event1 = AssetPriceEvent(stock, datetime(2020, 9, 3), 2.65)\n",
    "event2 = AssetPriceEvent(stock, datetime(2020, 9, 1), 2.55)\n",
    "event3 = AssetPriceEvent(stock, datetime(2020, 9, 2), 2.60)\n",
    "[queue.put(event) for event in [event1, event2, event3]]\n",
    "\n",
    "while len(queue) > 0:\n",
    "    datetime, event = queue.get()\n",
    "    print(event)\n"
   ]
  },
  {
   "cell_type": "markdown",
   "metadata": {},
   "source": [
    "Note that the event with the oldest datetime is the first to be processed.\n",
    "\n",
    "Whilst it's useful to know how the event queue works it'll largely run in the background and you won't have to interact directly with it."
   ]
  },
  {
   "cell_type": "markdown",
   "metadata": {},
   "source": [
    "***"
   ]
  }
 ],
 "metadata": {
  "kernelspec": {
   "display_name": "py36",
   "language": "python",
   "name": "py36"
  },
  "language_info": {
   "codemirror_mode": {
    "name": "ipython",
    "version": 3
   },
   "file_extension": ".py",
   "mimetype": "text/x-python",
   "name": "python",
   "nbconvert_exporter": "python",
   "pygments_lexer": "ipython3",
   "version": "3.6.6"
  }
 },
 "nbformat": 4,
 "nbformat_minor": 2
}
