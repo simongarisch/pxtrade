{
 "cells": [
  {
   "cell_type": "markdown",
   "metadata": {},
   "source": [
    "## pytrading\n",
    "\n",
    "A multi currency, event driven backtester written in Python.\n",
    "\n",
    "\n",
    "### Installation\n",
    "```bash\n",
    "pip install pytrading\n",
    "```\n",
    "\n",
    "### Examples\n",
    "[Notebooks](https://github.com/simongarisch/pytrading/tree/master/notes) are available to cover the main concepts and examples.\n",
    "-  [equities buy and hold](https://github.com/simongarisch/pytrading/blob/master/notes/06%20Example%20-%20Buy%20And%20Hold.ipynb)\n",
    "-  [fx trading](https://github.com/simongarisch/pytrading/blob/master/notes/08%20Example%20-%20FX.ipynb)\n",
    "-  [bitcoin](https://github.com/simongarisch/pytrading/blob/master/notes/09%20Example%20-%20Bitcoin.ipynb)\n",
    "-  [Intraday trading](https://github.com/simongarisch/pytrading/blob/master/notes/11%20Example%20-%20FX%20Intraday%20with%20Benchmark.ipynb)"
   ]
  },
  {
   "cell_type": "markdown",
   "metadata": {},
   "source": [
    "### Assets and Portfolios\n",
    "Before we can run a backtest we need to define the assets and portfolios involved."
   ]
  },
  {
   "cell_type": "code",
   "execution_count": 1,
   "metadata": {},
   "outputs": [],
   "source": [
    "import os\n",
    "\n",
    "os.chdir(\"..\")"
   ]
  },
  {
   "cell_type": "code",
   "execution_count": 2,
   "metadata": {},
   "outputs": [
    {
     "name": "stdout",
     "output_type": "stream",
     "text": [
      "Portfolio('USD')\n"
     ]
    }
   ],
   "source": [
    "from pytrading.assets import reset, Cash, Stock, FxRate, Portfolio\n",
    "\n",
    "\n",
    "reset()\n",
    "aud = Cash(\"AUD\")\n",
    "usd = Cash(\"USD\")\n",
    "audusd = FxRate(\"AUDUSD\")\n",
    "spy = Stock(\"SPY\")\n",
    "portfolio = Portfolio(\"USD\", code=\"Portfolio\")  # a portfolio denominated in USD\n",
    "benchmark = Portfolio(\"USD\", code=\"Benchmark\")\n",
    "\n",
    "print(portfolio)"
   ]
  },
  {
   "cell_type": "code",
   "execution_count": 3,
   "metadata": {},
   "outputs": [
    {
     "name": "stdout",
     "output_type": "stream",
     "text": [
      "Portfolio('USD'):\n",
      "Cash('USD', 1.0, currency_code='USD'): 1,000,000\n"
     ]
    }
   ],
   "source": [
    "portfolio.transfer(usd, 1e6)  # start both with 1M USD\n",
    "benchmark.transfer(usd, 1e6)\n",
    "\n",
    "print(portfolio)"
   ]
  },
  {
   "cell_type": "code",
   "execution_count": 4,
   "metadata": {},
   "outputs": [
    {
     "data": {
      "text/plain": [
       "1000000.0"
      ]
     },
     "execution_count": 4,
     "metadata": {},
     "output_type": "execute_result"
    }
   ],
   "source": [
    "portfolio.value"
   ]
  },
  {
   "cell_type": "markdown",
   "metadata": {},
   "source": [
    "### Imposing portfolio constraints through compliance\n",
    "\n",
    "Ideally there will be risk limits in place when running a backtest. Some concrete compliance rules are provided, but you can also define your own by [inheriting from ComplianceRule](https://github.com/simongarisch/pytrading/blob/master/notes/02%20The%20Trade%20Lifecycle.ipynb)."
   ]
  },
  {
   "cell_type": "code",
   "execution_count": 5,
   "metadata": {},
   "outputs": [],
   "source": [
    "from pytrading.compliance import Compliance, UnitLimit\n",
    "\n",
    "\n",
    "for port in [portfolio, benchmark]:\n",
    "    port.compliance = Compliance().add_rule(\n",
    "        UnitLimit(spy, 1000)\n",
    "    )"
   ]
  },
  {
   "cell_type": "markdown",
   "metadata": {},
   "source": [
    "### Defining a portfolio broker\n",
    "Different portfolios / strategies are likely to vary materially in broker charges. All portfolios have a default broker that executes trades at the last price with no charge (or slippage). Brokers have separate execution and charges strategies. You can use the classes available or define custom strategies by inheriting from  [AbstractExecution](https://github.com/simongarisch/pytrading/blob/master/pytrading/broker/execution.py#L6) or [AbstractCharges](https://github.com/simongarisch/pytrading/blob/master/pytrading/broker/charges.py#L8). Note that backtesting supports multiple currencies. The portfolio could be denominated in USD, for example, but broker charges defined in AUD terms."
   ]
  },
  {
   "cell_type": "code",
   "execution_count": 6,
   "metadata": {},
   "outputs": [],
   "source": [
    "from pytrading.broker import (\n",
    "    Broker, \n",
    "    FillAtLastWithSlippage,\n",
    "    FixedRatePlusPercentage,\n",
    ")\n",
    "\n",
    "\n",
    "portfolio.broker = Broker(\n",
    "    execution_strategy=FillAtLastWithSlippage(0),  # no slippage, just fill at last\n",
    "    charges_strategy=FixedRatePlusPercentage(20, 0, currency_code=\"AUD\")  # fixed charge of AUD 20 per trade.\n",
    ")"
   ]
  },
  {
   "cell_type": "markdown",
   "metadata": {},
   "source": [
    "### Defining a trading strategy\n",
    "All strategy classes must inherit from pytrading.Strategy and implement a generate_trades method. Note that the trades returned can either be None, a trade instance or list or trades."
   ]
  },
  {
   "cell_type": "code",
   "execution_count": 7,
   "metadata": {},
   "outputs": [],
   "source": [
    "import pytrading as pt\n",
    "\n",
    "\n",
    "class ExampleStrategy(pt.Strategy):\n",
    "    def generate_trades(self):\n",
    "        trades = list()\n",
    "\n",
    "        # get the portfolio trades first\n",
    "        if spy.price < 330:\n",
    "            trades.append(pt.Trade(portfolio, spy, +100))\n",
    "\n",
    "        trades.append(pt.Trade(benchmark, spy, +1000))\n",
    "\n",
    "        return trades\n"
   ]
  },
  {
   "cell_type": "markdown",
   "metadata": {},
   "source": [
    "### The backtest instance and trade history\n",
    "A backtest takes a strategy instance as it's argument. Any instances of History then record state through time as events are processed."
   ]
  },
  {
   "cell_type": "code",
   "execution_count": 8,
   "metadata": {},
   "outputs": [],
   "source": [
    "backtest = pt.Backtest(ExampleStrategy())\n",
    "\n",
    "history = pt.History(\n",
    "    portfolios=[portfolio, benchmark],\n",
    "    backtest=backtest\n",
    ")"
   ]
  },
  {
   "cell_type": "markdown",
   "metadata": {},
   "source": [
    "### [Loading event data](https://github.com/simongarisch/pytrading/blob/master/notes/05%20Bulk%20Event%20Loads.ipynb)\n",
    "Events can be loaded either from yahoo finance or from an existing data frame.\n"
   ]
  },
  {
   "cell_type": "code",
   "execution_count": 9,
   "metadata": {},
   "outputs": [],
   "source": [
    "from datetime import date\n",
    "from pytrading.events.yahoo import load_yahoo_prices\n",
    "\n",
    "\n",
    "start_date = date(2020, 6, 30)\n",
    "end_date = date(2020, 9, 30)\n",
    "\n",
    "load_yahoo_prices(\n",
    "    [spy, audusd], backtest,\n",
    "    start_date=start_date,\n",
    "    end_date=end_date,\n",
    ")"
   ]
  },
  {
   "cell_type": "markdown",
   "metadata": {},
   "source": [
    "### Running the backtest and collecting history"
   ]
  },
  {
   "cell_type": "code",
   "execution_count": 10,
   "metadata": {},
   "outputs": [],
   "source": [
    "backtest.run()\n",
    "\n",
    "df = history.get()"
   ]
  },
  {
   "cell_type": "code",
   "execution_count": 11,
   "metadata": {},
   "outputs": [
    {
     "data": {
      "text/plain": [
       "Index(['AUD', 'AUDUSD', 'Benchmark', 'Benchmark_AUD', 'Benchmark_SPY',\n",
       "       'Benchmark_USD', 'Portfolio', 'Portfolio_AUD', 'Portfolio_SPY',\n",
       "       'Portfolio_USD', 'SPY', 'USD'],\n",
       "      dtype='object')"
      ]
     },
     "execution_count": 11,
     "metadata": {},
     "output_type": "execute_result"
    }
   ],
   "source": [
    "df.columns"
   ]
  },
  {
   "cell_type": "code",
   "execution_count": 12,
   "metadata": {},
   "outputs": [
    {
     "data": {
      "text/html": [
       "        <script type=\"text/javascript\">\n",
       "        window.PlotlyConfig = {MathJaxConfig: 'local'};\n",
       "        if (window.MathJax) {MathJax.Hub.Config({SVG: {font: \"STIX-Web\"}});}\n",
       "        if (typeof require !== 'undefined') {\n",
       "        require.undef(\"plotly\");\n",
       "        requirejs.config({\n",
       "            paths: {\n",
       "                'plotly': ['https://cdn.plot.ly/plotly-latest.min']\n",
       "            }\n",
       "        });\n",
       "        require(['plotly'], function(Plotly) {\n",
       "            window._Plotly = Plotly;\n",
       "        });\n",
       "        }\n",
       "        </script>\n",
       "        "
      ]
     },
     "metadata": {},
     "output_type": "display_data"
    }
   ],
   "source": [
    "import cufflinks as cf\n",
    "\n",
    "\n",
    "use_cufflinks = False\n",
    "\n",
    "if use_cufflinks:\n",
    "    columns = [\"Portfolio_SPY\", \"Benchmark_SPY\", \"SPY\"]\n",
    "    df[columns].iplot(\n",
    "        secondary_y=\"SPY\",\n",
    "        title=\"Portfolio Holdings of SPY\",\n",
    "    )\n"
   ]
  },
  {
   "cell_type": "markdown",
   "metadata": {},
   "source": [
    "![holdings](https://github.com/simongarisch/pytrading/blob/master/notes/portfolio_holdings_of_spy.png?raw=true)"
   ]
  },
  {
   "cell_type": "code",
   "execution_count": 13,
   "metadata": {},
   "outputs": [],
   "source": [
    "if use_cufflinks:\n",
    "    columns = [\"Portfolio\", \"Benchmark\"]\n",
    "    df[columns].iplot(\n",
    "        title=\"Portfolio Value\",\n",
    "    )"
   ]
  },
  {
   "cell_type": "markdown",
   "metadata": {},
   "source": [
    "![holdings](https://github.com/simongarisch/pytrading/blob/master/notes/portfolio_value.png?raw=true)"
   ]
  },
  {
   "cell_type": "markdown",
   "metadata": {},
   "source": [
    "***"
   ]
  }
 ],
 "metadata": {
  "kernelspec": {
   "display_name": "py36",
   "language": "python",
   "name": "py36"
  },
  "language_info": {
   "codemirror_mode": {
    "name": "ipython",
    "version": 3
   },
   "file_extension": ".py",
   "mimetype": "text/x-python",
   "name": "python",
   "nbconvert_exporter": "python",
   "pygments_lexer": "ipython3",
   "version": "3.6.6"
  }
 },
 "nbformat": 4,
 "nbformat_minor": 2
}
