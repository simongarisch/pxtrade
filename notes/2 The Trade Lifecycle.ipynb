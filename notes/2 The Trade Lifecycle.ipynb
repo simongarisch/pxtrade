{
 "cells": [
  {
   "cell_type": "markdown",
   "metadata": {},
   "source": [
    "## The Trade Lifecycle"
   ]
  },
  {
   "cell_type": "code",
   "execution_count": 1,
   "metadata": {},
   "outputs": [],
   "source": [
    "import os\n",
    "\n",
    "os.chdir(\"..\")"
   ]
  },
  {
   "cell_type": "markdown",
   "metadata": {},
   "source": [
    "### Portfolio Setup"
   ]
  },
  {
   "cell_type": "code",
   "execution_count": 4,
   "metadata": {},
   "outputs": [],
   "source": [
    "from pytrade.compliance import Compliance\n",
    "from pytrade.broker import Broker\n",
    "from pytrade.assets import (\n",
    "    reset,\n",
    "    Cash,\n",
    "    Stock,\n",
    "    Portfolio,\n",
    ")"
   ]
  },
  {
   "cell_type": "markdown",
   "metadata": {},
   "source": [
    "Let's initialise our portfolio."
   ]
  },
  {
   "cell_type": "code",
   "execution_count": 5,
   "metadata": {},
   "outputs": [
    {
     "name": "stdout",
     "output_type": "stream",
     "text": [
      "Portfolio('USD'):\n",
      "Cash('USD', 1.0, currency_code='USD'): 1,000\n",
      "Stock('XXX US', 10, currency_code='USD'): 100\n"
     ]
    }
   ],
   "source": [
    "reset()\n",
    "usd = Cash(\"USD\")\n",
    "stock = Stock(\"XXX US\", 10, currency_code=\"USD\")\n",
    "portfolio = Portfolio(\"USD\")\n",
    "\n",
    "portfolio.transfer(usd, 1000)\n",
    "portfolio.transfer(stock, 100)\n",
    "\n",
    "print(portfolio)"
   ]
  },
  {
   "cell_type": "code",
   "execution_count": 6,
   "metadata": {},
   "outputs": [
    {
     "data": {
      "text/plain": [
       "2000.0"
      ]
     },
     "execution_count": 6,
     "metadata": {},
     "output_type": "execute_result"
    }
   ],
   "source": [
    "portfolio.value"
   ]
  },
  {
   "cell_type": "markdown",
   "metadata": {},
   "source": [
    "### Trade Objects\n",
    "Each trade needs the an associated portfolio, asset and the number of units we wish to trade."
   ]
  },
  {
   "cell_type": "code",
   "execution_count": 8,
   "metadata": {},
   "outputs": [
    {
     "name": "stdout",
     "output_type": "stream",
     "text": [
      "Trade(Portfolio('USD'), 'XXX US', 100)\n"
     ]
    }
   ],
   "source": [
    "from pytrade import Trade\n",
    "\n",
    "trade = Trade(portfolio, stock, 100)\n",
    "print(trade)"
   ]
  },
  {
   "cell_type": "markdown",
   "metadata": {},
   "source": [
    "### The Trade Lifecycle\n",
    "Each trade is linked to a portfolio object which itself has associated compliance rules and executing brokers. "
   ]
  },
  {
   "cell_type": "code",
   "execution_count": 10,
   "metadata": {},
   "outputs": [
    {
     "data": {
      "text/plain": [
       "<pytrade.compliance.base.Compliance at 0x29444dd5c50>"
      ]
     },
     "execution_count": 10,
     "metadata": {},
     "output_type": "execute_result"
    }
   ],
   "source": [
    "portfolio.compliance"
   ]
  },
  {
   "cell_type": "code",
   "execution_count": 11,
   "metadata": {},
   "outputs": [
    {
     "data": {
      "text/plain": [
       "<pytrade.broker.broker.Broker at 0x29444dd5c88>"
      ]
     },
     "execution_count": 11,
     "metadata": {},
     "output_type": "execute_result"
    }
   ],
   "source": [
    "portfolio.broker"
   ]
  },
  {
   "cell_type": "markdown",
   "metadata": {},
   "source": [
    "By default portfolios start with an empty compliance module (one that contains no compliance rules) and a broker that executes trades at the last available price with no fees. These options are configurable and we'll touch on them later. However, the basic trade pipeline is as follows:\n",
    "\n",
    "-  A trade is created / proposed with an associated portfolio.\n",
    "\n",
    "\n",
    "-  Compliance is run on this trade to check whether it passes any rules including (but not limited to) position limits and restricted securities.\n",
    "\n",
    "\n",
    "-  If compliance passes for this trade then it is sent to the portfolio's broker object for execution. This may incur some fees and slippage depending on how the broker object is defined."
   ]
  },
  {
   "cell_type": "markdown",
   "metadata": {},
   "source": [
    "The trade pipeline does this in the background for you."
   ]
  },
  {
   "cell_type": "code",
   "execution_count": 22,
   "metadata": {},
   "outputs": [
    {
     "data": {
      "text/plain": [
       "<pytrade.trade.trade_pipeline.ComplianceHandler at 0x29444dc1b38>"
      ]
     },
     "execution_count": 22,
     "metadata": {},
     "output_type": "execute_result"
    }
   ],
   "source": [
    "from pytrade.trade import trade_pipeline\n",
    "\n",
    "trade_pipeline"
   ]
  },
  {
   "cell_type": "markdown",
   "metadata": {},
   "source": [
    "Our pipeline starts with the compliance handler at its head and ends with trade execution (if compliance passes)."
   ]
  },
  {
   "cell_type": "markdown",
   "metadata": {},
   "source": [
    "## Compliance\n",
    "We can initialise a new compliance module as follows."
   ]
  },
  {
   "cell_type": "code",
   "execution_count": 12,
   "metadata": {},
   "outputs": [
    {
     "data": {
      "text/plain": [
       "<pytrade.compliance.base.Compliance at 0x29444e281d0>"
      ]
     },
     "execution_count": 12,
     "metadata": {},
     "output_type": "execute_result"
    }
   ],
   "source": [
    "from pytrade.compliance import Compliance\n",
    "\n",
    "compliance = Compliance()\n",
    "compliance"
   ]
  },
  {
   "cell_type": "code",
   "execution_count": 14,
   "metadata": {},
   "outputs": [
    {
     "data": {
      "text/plain": [
       "0"
      ]
     },
     "execution_count": 14,
     "metadata": {},
     "output_type": "execute_result"
    }
   ],
   "source": [
    "len(compliance)  # there are currently zero rules"
   ]
  },
  {
   "cell_type": "markdown",
   "metadata": {},
   "source": [
    "Once we have a new compliance object we can begin adding rules with the add_rule method."
   ]
  },
  {
   "cell_type": "code",
   "execution_count": 15,
   "metadata": {},
   "outputs": [
    {
     "data": {
      "text/plain": [
       "1"
      ]
     },
     "execution_count": 15,
     "metadata": {},
     "output_type": "execute_result"
    }
   ],
   "source": [
    "from pytrade.compliance import UnitLimit\n",
    "\n",
    "compliance.add_rule(\n",
    "    UnitLimit(stock, 100)\n",
    ")\n",
    "\n",
    "len(compliance)"
   ]
  },
  {
   "cell_type": "markdown",
   "metadata": {},
   "source": [
    "If we wanted to add a unit limit to our portfolio we can write."
   ]
  },
  {
   "cell_type": "code",
   "execution_count": 16,
   "metadata": {},
   "outputs": [],
   "source": [
    "portfolio.compliance = Compliance().add_rule(\n",
    "    UnitLimit(stock, 1000)\n",
    ")"
   ]
  },
  {
   "cell_type": "markdown",
   "metadata": {},
   "source": [
    "All trades start with an attribute of passed_compliance = False. A trade has to pass all compliance rules to pass compliance as a whole."
   ]
  },
  {
   "cell_type": "code",
   "execution_count": 18,
   "metadata": {},
   "outputs": [
    {
     "data": {
      "text/plain": [
       "False"
      ]
     },
     "execution_count": 18,
     "metadata": {},
     "output_type": "execute_result"
    }
   ],
   "source": [
    "trade.passed_compliance"
   ]
  },
  {
   "cell_type": "markdown",
   "metadata": {},
   "source": [
    "To create custom compliance rules you'll have to inherit from the ComplianceRule base class and implement the passes method (which takes the portfolio as an argument and returns a boolean value)."
   ]
  },
  {
   "cell_type": "code",
   "execution_count": 25,
   "metadata": {},
   "outputs": [],
   "source": [
    "from pytrade.compliance import ComplianceRule\n",
    "\n",
    "\n",
    "class RestrictedSecurityCode(ComplianceRule):\n",
    "    def __init__(self, restricted_code):\n",
    "        super().__init__()\n",
    "        self._restricted_code = restricted_code\n",
    "\n",
    "    def passes(self, portfolio):\n",
    "        position = portfolio.get_holding_units(self._restricted_code)\n",
    "        if abs(position) != 0:\n",
    "            return False\n",
    "        return True\n"
   ]
  },
  {
   "cell_type": "code",
   "execution_count": 26,
   "metadata": {},
   "outputs": [
    {
     "data": {
      "text/plain": [
       "True"
      ]
     },
     "execution_count": 26,
     "metadata": {},
     "output_type": "execute_result"
    }
   ],
   "source": [
    "Compliance().add_rule(\n",
    "    RestrictedSecurityCode(\"ZZB AU\")\n",
    ").passes(portfolio)"
   ]
  },
  {
   "cell_type": "code",
   "execution_count": 27,
   "metadata": {},
   "outputs": [
    {
     "data": {
      "text/plain": [
       "False"
      ]
     },
     "execution_count": 27,
     "metadata": {},
     "output_type": "execute_result"
    }
   ],
   "source": [
    "Compliance().add_rule(\n",
    "    RestrictedSecurityCode(\"XXX US\")\n",
    ").passes(portfolio)"
   ]
  },
  {
   "cell_type": "markdown",
   "metadata": {},
   "source": [
    "In this second case compliance fails as the portfolio holds our restricted security code. Unit and weight limits are defined in the compliance module."
   ]
  },
  {
   "cell_type": "code",
   "execution_count": 28,
   "metadata": {},
   "outputs": [],
   "source": [
    "from pytrade.compliance import UnitLimit, WeightLimit"
   ]
  },
  {
   "cell_type": "code",
   "execution_count": 29,
   "metadata": {},
   "outputs": [
    {
     "data": {
      "text/plain": [
       "(True, True)"
      ]
     },
     "execution_count": 29,
     "metadata": {},
     "output_type": "execute_result"
    }
   ],
   "source": [
    "issubclass(UnitLimit, ComplianceRule), issubclass(WeightLimit, ComplianceRule)"
   ]
  },
  {
   "cell_type": "markdown",
   "metadata": {},
   "source": [
    "## Broker Execution\n",
    "As mentioned earlier the default broker strategy is to execute trades (that pass compliance) fully at the last available price and with no fee."
   ]
  },
  {
   "cell_type": "code",
   "execution_count": 31,
   "metadata": {},
   "outputs": [
    {
     "data": {
      "text/plain": [
       "<pytrade.broker.broker.Broker at 0x29444dd5c88>"
      ]
     },
     "execution_count": 31,
     "metadata": {},
     "output_type": "execute_result"
    }
   ],
   "source": [
    "portfolio.broker"
   ]
  },
  {
   "cell_type": "code",
   "execution_count": 33,
   "metadata": {},
   "outputs": [
    {
     "data": {
      "text/plain": [
       "['_charges_strategy', '_execution_strategy', 'execute']"
      ]
     },
     "execution_count": 33,
     "metadata": {},
     "output_type": "execute_result"
    }
   ],
   "source": [
    "[item for item in dir(portfolio.broker) if not item.startswith(\"__\")]"
   ]
  },
  {
   "cell_type": "markdown",
   "metadata": {},
   "source": [
    "From the object dictionary we can see that brokers have both a charges strategy and an execution strategy. We can configure portfolio brokers with these options."
   ]
  },
  {
   "cell_type": "code",
   "execution_count": 35,
   "metadata": {},
   "outputs": [],
   "source": [
    "from pytrade.broker import (  # execution strategies\n",
    "    FillAtLast,  # default\n",
    "    FillAtLastWithSlippage,\n",
    ")\n",
    "\n",
    "from pytrade.broker import (  # charge strategies\n",
    "    NoCharges,  # default\n",
    "    FixedRatePlusPercentage,\n",
    ")"
   ]
  },
  {
   "cell_type": "code",
   "execution_count": 37,
   "metadata": {},
   "outputs": [
    {
     "name": "stdout",
     "output_type": "stream",
     "text": [
      "Portfolio('USD'):\n",
      "Cash('USD', 1.0, currency_code='USD'): 1,000\n",
      "Stock('XXX US', 10, currency_code='USD'): 100\n"
     ]
    }
   ],
   "source": [
    "print(portfolio)"
   ]
  },
  {
   "cell_type": "code",
   "execution_count": 38,
   "metadata": {},
   "outputs": [
    {
     "name": "stdout",
     "output_type": "stream",
     "text": [
      "Trade(Portfolio('USD'), 'XXX US', 100)\n"
     ]
    }
   ],
   "source": [
    "print(trade)"
   ]
  },
  {
   "cell_type": "code",
   "execution_count": 39,
   "metadata": {},
   "outputs": [
    {
     "name": "stdout",
     "output_type": "stream",
     "text": [
      "Stock('XXX US', 10, currency_code='USD')\n"
     ]
    }
   ],
   "source": [
    "print(stock)"
   ]
  },
  {
   "cell_type": "markdown",
   "metadata": {},
   "source": [
    "Suppose we redefine the portfolio broker."
   ]
  },
  {
   "cell_type": "code",
   "execution_count": 40,
   "metadata": {},
   "outputs": [],
   "source": [
    "portfolio.broker = Broker(\n",
    "    execution_strategy=FillAtLastWithSlippage(0.01),\n",
    "    charges_strategy=FixedRatePlusPercentage(20, 0.01, currency_code=\"USD\"),\n",
    ")"
   ]
  },
  {
   "cell_type": "markdown",
   "metadata": {},
   "source": [
    "If the broker executes our trade there will be 1% slippage, a USD 20 fixed charge and a 1% variable charge.\n",
    "\n",
    "The trade value is 100 shares * USD 10 price = USD 1000, so 1% of this is USD 10.\n",
    "*  USD 10 slippage\n",
    "*  USD 20 fixed broker charge\n",
    "*  USD 10 variable broker charge"
   ]
  },
  {
   "cell_type": "code",
   "execution_count": 42,
   "metadata": {},
   "outputs": [],
   "source": [
    "portfolio.broker.execute(trade)"
   ]
  },
  {
   "cell_type": "code",
   "execution_count": 43,
   "metadata": {},
   "outputs": [
    {
     "name": "stdout",
     "output_type": "stream",
     "text": [
      "Portfolio('USD'):\n",
      "Cash('USD', 1.0, currency_code='USD'): -40\n",
      "Stock('XXX US', 10, currency_code='USD'): 200\n"
     ]
    }
   ],
   "source": [
    "print(portfolio)"
   ]
  },
  {
   "cell_type": "markdown",
   "metadata": {},
   "source": [
    "There was cash of USD 1000 in the portfolio to start with. This would have been the cost of buying 100 shares had there been no slippage or broker charges. However, after the trade we end up short USD by the amount of our total charges = USD 40. Our stock position has also gone up by 100 shares."
   ]
  },
  {
   "cell_type": "markdown",
   "metadata": {},
   "source": [
    "***"
   ]
  }
 ],
 "metadata": {
  "kernelspec": {
   "display_name": "py36",
   "language": "python",
   "name": "py36"
  },
  "language_info": {
   "codemirror_mode": {
    "name": "ipython",
    "version": 3
   },
   "file_extension": ".py",
   "mimetype": "text/x-python",
   "name": "python",
   "nbconvert_exporter": "python",
   "pygments_lexer": "ipython3",
   "version": "3.6.6"
  }
 },
 "nbformat": 4,
 "nbformat_minor": 2
}
